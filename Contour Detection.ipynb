{
 "cells": [
  {
   "cell_type": "code",
   "execution_count": 2,
   "metadata": {},
   "outputs": [],
   "source": [
    "# Imports\n",
    "import cv2 #OpenCV\n",
    "import numpy as np #Numpy\n",
    "import matplotlib.pyplot as plt #Matplotlib"
   ]
  },
  {
   "cell_type": "code",
   "execution_count": 5,
   "metadata": {},
   "outputs": [],
   "source": [
    "road = cv2.imread('../DATA/road_image.jpg') #Reading Image\n",
    "road_copy = np.copy(road) #Making Copy of Image"
   ]
  },
  {
   "cell_type": "code",
   "execution_count": 8,
   "metadata": {},
   "outputs": [
    {
     "data": {
      "text/plain": [
       "'D:\\\\Aditya\\\\Programming\\\\Jupyter Notebook Workspace\\\\Computer-Vision-with-Python\\\\04-Object-Detection'"
      ]
     },
     "execution_count": 8,
     "metadata": {},
     "output_type": "execute_result"
    }
   ],
   "source": [
    "pwd"
   ]
  },
  {
   "cell_type": "code",
   "execution_count": 6,
   "metadata": {},
   "outputs": [],
   "source": [
    "#Creating two black image of same size as original image\n",
    "marker_image = np.zeros(road.shape[:2],dtype=np.int32) \n",
    "segments = np.zeros(road.shape,dtype=np.uint8)"
   ]
  },
  {
   "cell_type": "code",
   "execution_count": 10,
   "metadata": {},
   "outputs": [],
   "source": []
  },
  {
   "cell_type": "markdown",
   "metadata": {},
   "source": [
    "## Create colors for Markers\n",
    "https://matplotlib.org/examples/color/colormaps_reference.html"
   ]
  },
  {
   "cell_type": "code",
   "execution_count": 7,
   "metadata": {},
   "outputs": [],
   "source": [
    "from matplotlib import cm"
   ]
  },
  {
   "cell_type": "code",
   "execution_count": 8,
   "metadata": {},
   "outputs": [],
   "source": [
    "# Function to return tuple of colors\n",
    "def create_rgb(i):\n",
    "    x = np.array(cm.tab10(i))[:3]*255\n",
    "    return tuple(x)"
   ]
  },
  {
   "cell_type": "code",
   "execution_count": 9,
   "metadata": {},
   "outputs": [],
   "source": [
    "#Storing Colors\n",
    "colors = []\n",
    "# One color for each single digit\n",
    "for i in range(10):\n",
    "    colors.append(create_rgb(i))"
   ]
  },
  {
   "cell_type": "markdown",
   "metadata": {},
   "source": [
    "###### Setting Up Callback Function"
   ]
  },
  {
   "cell_type": "code",
   "execution_count": 10,
   "metadata": {},
   "outputs": [],
   "source": [
    "# Global Variables\n",
    "# Color Choices\n",
    "no_markers = 10 #Number of markers\n",
    "current_marker = 1 #Current markers \n",
    "marks_updated = False #Flag"
   ]
  },
  {
   "cell_type": "code",
   "execution_count": 17,
   "metadata": {},
   "outputs": [],
   "source": [
    "# CALLBACK FUNCTION\n",
    "def mouse_callback(event, x, y, flags, param):\n",
    "    global marks_updated \n",
    "\n",
    "    if event == cv2.EVENT_LBUTTONDOWN:\n",
    "        \n",
    "        # TRACKING FOR MARKERS\n",
    "        cv2.circle(marker_image, (x, y), 5, (current_marker), -1)\n",
    "        \n",
    "        # DISPLAY ON USER IMAGE \n",
    "        cv2.circle(road_copy, (x, y), 5, colors[current_marker], -1)\n",
    "        \n",
    "        marks_updated = True"
   ]
  },
  {
   "cell_type": "code",
   "execution_count": 18,
   "metadata": {},
   "outputs": [],
   "source": [
    "#Naming the window and setting call back funtion to it\n",
    "cv2.namedWindow('Road Image')\n",
    "cv2.setMouseCallback('Road Image', mouse_callback)\n",
    "\n",
    "while True:\n",
    "    \n",
    "    # Show the 2 windows\n",
    "    cv2.imshow('WaterShed Segments', segments)\n",
    "    cv2.imshow('Road Image', road_copy)\n",
    "        \n",
    "        \n",
    "    # Close everything if Esc is pressed\n",
    "    k = cv2.waitKey(1)\n",
    "\n",
    "    if k == 27:\n",
    "        break\n",
    "        \n",
    "    # Clear all colors and start over if 'c' is pressed\n",
    "    elif k == ord('c'):\n",
    "        road_copy = road.copy()\n",
    "        marker_image = np.zeros(road.shape[0:2], dtype=np.int32)\n",
    "        segments = np.zeros(road.shape,dtype=np.uint8)\n",
    "        \n",
    "    # If a number 0-9 is chosen index the color\n",
    "    elif k > 0 and chr(k).isdigit():\n",
    "        # chr converts to printable digit        \n",
    "        current_marker  = int(chr(k))\n",
    "    \n",
    "    # If we clicked somewhere, call the watershed algorithm on our chosen markers\n",
    "    if marks_updated:\n",
    "        \n",
    "        marker_image_copy = marker_image.copy()\n",
    "        cv2.watershed(road, marker_image_copy)\n",
    "        \n",
    "        segments = np.zeros(road.shape,dtype=np.uint8)\n",
    "        \n",
    "        for color_ind in range(no_markers):\n",
    "            # COLORING SEGMENTS\n",
    "            segments[marker_image_copy == (color_ind)] = colors[color_ind]\n",
    "        \n",
    "        marks_updated = False\n",
    "        \n",
    "#Destroy all the windows at the end\n",
    "cv2.destroyAllWindows()"
   ]
  },
  {
   "cell_type": "code",
   "execution_count": null,
   "metadata": {},
   "outputs": [],
   "source": []
  }
 ],
 "metadata": {
  "kernelspec": {
   "display_name": "Python 3",
   "language": "python",
   "name": "python3"
  },
  "language_info": {
   "codemirror_mode": {
    "name": "ipython",
    "version": 3
   },
   "file_extension": ".py",
   "mimetype": "text/x-python",
   "name": "python",
   "nbconvert_exporter": "python",
   "pygments_lexer": "ipython3",
   "version": "3.7.6"
  }
 },
 "nbformat": 4,
 "nbformat_minor": 4
}
